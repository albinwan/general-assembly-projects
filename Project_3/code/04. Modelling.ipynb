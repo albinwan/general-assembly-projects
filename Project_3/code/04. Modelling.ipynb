{
 "cells": [
  {
   "cell_type": "markdown",
   "metadata": {},
   "source": [
    "# Import libraries and dataset"
   ]
  },
  {
   "cell_type": "code",
   "execution_count": 1,
   "metadata": {},
   "outputs": [],
   "source": [
    "import pandas as pd\n",
    "import numpy as np\n",
    "\n",
    "from nltk.corpus import stopwords\n",
    "from sklearn.model_selection import train_test_split, GridSearchCV\n",
    "from sklearn.linear_model import LogisticRegression\n",
    "from sklearn.pipeline import Pipeline\n",
    "from sklearn.feature_extraction import text \n",
    "from sklearn.feature_extraction.text import CountVectorizer, TfidfVectorizer\n",
    "from sklearn.metrics import confusion_matrix, plot_confusion_matrix\n",
    "from sklearn.naive_bayes import MultinomialNB\n",
    "from sklearn.ensemble import RandomForestClassifier"
   ]
  },
  {
   "cell_type": "code",
   "execution_count": 2,
   "metadata": {},
   "outputs": [],
   "source": [
    "X_train = pd.read_csv('../datasets/X_train_clean.csv')\n",
    "X_test = pd.read_csv('../datasets/X_test_clean.csv')\n",
    "y_train = pd.read_csv('../datasets/y_train.csv')\n",
    "y_test = pd.read_csv('../datasets/y_test.csv')"
   ]
  },
  {
   "cell_type": "markdown",
   "metadata": {},
   "source": [
    "# Modeling"
   ]
  },
  {
   "cell_type": "markdown",
   "metadata": {},
   "source": [
    "We need to calculate baseline accuracy in order to tell if our model is better than null model (predicting the plurality class)."
   ]
  },
  {
   "cell_type": "code",
   "execution_count": 3,
   "metadata": {},
   "outputs": [
    {
     "data": {
      "text/plain": [
       "subreddit\n",
       "1            0.5\n",
       "0            0.5\n",
       "dtype: float64"
      ]
     },
     "execution_count": 3,
     "metadata": {},
     "output_type": "execute_result"
    }
   ],
   "source": [
    "y_test.value_counts(normalize=True)"
   ]
  },
  {
   "cell_type": "markdown",
   "metadata": {},
   "source": [
    "Our model needs to beat 50% accuracy since the distribution between the two target class is 50:50."
   ]
  },
  {
   "cell_type": "code",
   "execution_count": 4,
   "metadata": {},
   "outputs": [],
   "source": [
    "X_train = list(X_train['comments'])\n",
    "X_test = list(X_test['comments'])\n",
    "\n",
    "y_train = list(y_train['subreddit'])\n",
    "y_test = list(y_test['subreddit'])"
   ]
  },
  {
   "cell_type": "markdown",
   "metadata": {},
   "source": [
    "Here we add in extra stop words to filter out synonymous words that's similar to `gainit` and `loseit`.   \n",
    "\n",
    "*Note that we initially only included 'gainit' and 'loseit' as stop words but it turns out that alot of synonymous words were chosen by our model for r/Loseit like 'lose', 'loss' and 'lost'.*"
   ]
  },
  {
   "cell_type": "code",
   "execution_count": 5,
   "metadata": {},
   "outputs": [],
   "source": [
    "stop_words_final = text.ENGLISH_STOP_WORDS.union(['gainit', 'loseit', 'lose', 'gain', 'loss', 'lost'])"
   ]
  },
  {
   "cell_type": "markdown",
   "metadata": {},
   "source": [
    "## Model 1: CountVectorizer, LogReg"
   ]
  },
  {
   "cell_type": "markdown",
   "metadata": {},
   "source": [
    "Create Pipeline for CountVectorizer and LogisticRegression. "
   ]
  },
  {
   "cell_type": "code",
   "execution_count": 6,
   "metadata": {},
   "outputs": [],
   "source": [
    "pipe1 = Pipeline([\n",
    "    ('cv1', CountVectorizer(stop_words=stop_words_final)),\n",
    "    ('lr1', LogisticRegression(solver = 'lbfgs'))\n",
    "])\n",
    "\n",
    "pipe1_params = {\n",
    "    'cv1__min_df': [1, 2],\n",
    "    'cv1__max_df': [0.95, 0.9, 0.85],\n",
    "    'cv1__ngram_range': [(1,1), (1,2)]\n",
    "}\n",
    "\n",
    "gs_pipe1 = GridSearchCV(\n",
    "    pipe1, \n",
    "    param_grid= pipe1_params,\n",
    "    cv=5\n",
    ")"
   ]
  },
  {
   "cell_type": "markdown",
   "metadata": {},
   "source": [
    "Fit model"
   ]
  },
  {
   "cell_type": "code",
   "execution_count": 7,
   "metadata": {},
   "outputs": [],
   "source": [
    "gs_pipe1.fit(X_train, y_train);"
   ]
  },
  {
   "cell_type": "markdown",
   "metadata": {},
   "source": [
    "Find best parameters"
   ]
  },
  {
   "cell_type": "code",
   "execution_count": 8,
   "metadata": {},
   "outputs": [
    {
     "data": {
      "text/plain": [
       "{'cv1__max_df': 0.95, 'cv1__min_df': 2, 'cv1__ngram_range': (1, 2)}"
      ]
     },
     "execution_count": 8,
     "metadata": {},
     "output_type": "execute_result"
    }
   ],
   "source": [
    "gs_pipe1.best_params_"
   ]
  },
  {
   "cell_type": "markdown",
   "metadata": {},
   "source": [
    "Score on best parameters"
   ]
  },
  {
   "cell_type": "code",
   "execution_count": 9,
   "metadata": {},
   "outputs": [
    {
     "data": {
      "text/plain": [
       "1.0"
      ]
     },
     "execution_count": 9,
     "metadata": {},
     "output_type": "execute_result"
    }
   ],
   "source": [
    "gs_model_pipe1 = gs_pipe1.best_estimator_\n",
    "gs_model_pipe1.score(X_train, y_train)"
   ]
  },
  {
   "cell_type": "code",
   "execution_count": 10,
   "metadata": {},
   "outputs": [
    {
     "data": {
      "text/plain": [
       "0.9096638655462185"
      ]
     },
     "execution_count": 10,
     "metadata": {},
     "output_type": "execute_result"
    }
   ],
   "source": [
    "gs_model_pipe1.score(X_test, y_test)"
   ]
  },
  {
   "cell_type": "markdown",
   "metadata": {},
   "source": [
    "### Metrics and scores"
   ]
  },
  {
   "cell_type": "markdown",
   "metadata": {},
   "source": [
    "Create a dataframe to store results"
   ]
  },
  {
   "cell_type": "code",
   "execution_count": 11,
   "metadata": {},
   "outputs": [],
   "source": [
    "df_results = pd.DataFrame(index=['Model 1', 'Model 2', 'Model 3', 'Model 4'], \n",
    "                          columns=['Accuracy', 'Sensitivity', 'Specificity', 'Precision'])"
   ]
  },
  {
   "cell_type": "code",
   "execution_count": 12,
   "metadata": {},
   "outputs": [
    {
     "data": {
      "image/png": "[encoded data removed]",
      "text/plain": [
       "<Figure size 432x288 with 2 Axes>"
      ]
     },
     "metadata": {
      "needs_background": "light"
     },
     "output_type": "display_data"
    }
   ],
   "source": [
    "preds_pipe1 = gs_model_pipe1.predict(X_test)\n",
    "plot_confusion_matrix(gs_model_pipe1, X_test, y_test, cmap='Blues', values_format='d');"
   ]
  },
  {
   "cell_type": "markdown",
   "metadata": {},
   "source": [
    "Find out the scores"
   ]
  },
  {
   "cell_type": "code",
   "execution_count": 13,
   "metadata": {},
   "outputs": [
    {
     "name": "stdout",
     "output_type": "stream",
     "text": [
      "\n",
      "Accuracy:  0.9096638655462185\n",
      "Sensitivity:  0.9201680672268907\n",
      "Specificity:  0.8991596638655462\n",
      "Precision:  0.9012345679012346\n"
     ]
    }
   ],
   "source": [
    "tn, fp, fn, tp = confusion_matrix(y_test, preds_pipe1).ravel()\n",
    "\n",
    "print(\"\\nAccuracy: \", (tn + tp) / (tn + fp + fn + tp))\n",
    "df_results.loc[['Model 1'],['Accuracy']] = (tn + tp) / (tn + fp + fn + tp)\n",
    "\n",
    "print(\"Sensitivity: \", tp / (tp + fn))\n",
    "df_results.loc[['Model 1'],['Sensitivity']] = tp / (tp + fn)\n",
    "\n",
    "print(\"Specificity: \", tn / (tn + fp))\n",
    "df_results.loc[['Model 1'],['Specificity']] = tn / (tn + fp)\n",
    "\n",
    "print(\"Precision: \", tp / (tp + fp))\n",
    "df_results.loc[['Model 1'],['Precision']] = tp / (tp + fp)"
   ]
  },
  {
   "cell_type": "markdown",
   "metadata": {},
   "source": [
    "We observe some overfitting on the train dataset as the accuracy score dropped about 10% on the test set. 90% accuracy is a good score considering that the baseline score to beat is 50%. Next, we want to try Logistic Regression with TF-IDF Vectorizer to see if there's significant improvement on a different transformer."
   ]
  },
  {
   "cell_type": "markdown",
   "metadata": {},
   "source": [
    "## Model 2: TfidfVectorizer, LogReg"
   ]
  },
  {
   "cell_type": "markdown",
   "metadata": {},
   "source": [
    "Create Pipeline for TfidfVectorizer and LogisticRegression"
   ]
  },
  {
   "cell_type": "code",
   "execution_count": 14,
   "metadata": {},
   "outputs": [],
   "source": [
    "pipe2 = Pipeline([\n",
    "    ('tv2', TfidfVectorizer(stop_words=stop_words_final)),\n",
    "    ('lr2', LogisticRegression(solver = 'lbfgs'))\n",
    "])\n",
    "\n",
    "pipe2_params = {\n",
    "    'tv2__min_df': [1, 2, 3],\n",
    "    'tv2__max_df': [0.95, 0.9, 0.85],\n",
    "    'tv2__ngram_range': [(1,1), (1,2)],\n",
    "}\n",
    "\n",
    "gs_pipe2 = GridSearchCV(\n",
    "    pipe2, \n",
    "    param_grid= pipe2_params,\n",
    "    cv=5\n",
    ")"
   ]
  },
  {
   "cell_type": "markdown",
   "metadata": {},
   "source": [
    "Fit model"
   ]
  },
  {
   "cell_type": "code",
   "execution_count": 15,
   "metadata": {},
   "outputs": [],
   "source": [
    "gs_pipe2.fit(X_train, y_train);"
   ]
  },
  {
   "cell_type": "markdown",
   "metadata": {},
   "source": [
    "Best parameters"
   ]
  },
  {
   "cell_type": "code",
   "execution_count": 16,
   "metadata": {},
   "outputs": [
    {
     "data": {
      "text/plain": [
       "{'tv2__max_df': 0.95, 'tv2__min_df': 3, 'tv2__ngram_range': (1, 2)}"
      ]
     },
     "execution_count": 16,
     "metadata": {},
     "output_type": "execute_result"
    }
   ],
   "source": [
    "gs_pipe2.best_params_"
   ]
  },
  {
   "cell_type": "code",
   "execution_count": 17,
   "metadata": {},
   "outputs": [
    {
     "data": {
      "text/plain": [
       "0.9637305699481865"
      ]
     },
     "execution_count": 17,
     "metadata": {},
     "output_type": "execute_result"
    }
   ],
   "source": [
    "gs_model_pipe2 = gs_pipe2.best_estimator_\n",
    "gs_model_pipe2.score(X_train, y_train)"
   ]
  },
  {
   "cell_type": "code",
   "execution_count": 18,
   "metadata": {
    "scrolled": true
   },
   "outputs": [
    {
     "data": {
      "text/plain": [
       "0.9117647058823529"
      ]
     },
     "execution_count": 18,
     "metadata": {},
     "output_type": "execute_result"
    }
   ],
   "source": [
    "gs_model_pipe2.score(X_test, y_test)"
   ]
  },
  {
   "cell_type": "markdown",
   "metadata": {},
   "source": [
    "### Metrics and scores"
   ]
  },
  {
   "cell_type": "code",
   "execution_count": 19,
   "metadata": {},
   "outputs": [
    {
     "data": {
      "image/png": "[encoded data removed]",
      "text/plain": [
       "<Figure size 432x288 with 2 Axes>"
      ]
     },
     "metadata": {
      "needs_background": "light"
     },
     "output_type": "display_data"
    }
   ],
   "source": [
    "preds_pipe2 = gs_model_pipe2.predict(X_test)\n",
    "plot_confusion_matrix(gs_model_pipe2, X_test, y_test, cmap='Blues', values_format='d');"
   ]
  },
  {
   "cell_type": "markdown",
   "metadata": {},
   "source": [
    "Find out the scores"
   ]
  },
  {
   "cell_type": "code",
   "execution_count": 20,
   "metadata": {},
   "outputs": [
    {
     "name": "stdout",
     "output_type": "stream",
     "text": [
      "\n",
      "Accuracy:  0.9117647058823529\n",
      "Sensitivity:  0.8781512605042017\n",
      "Specificity:  0.9453781512605042\n",
      "Precision:  0.9414414414414415\n"
     ]
    }
   ],
   "source": [
    "tn, fp, fn, tp = confusion_matrix(y_test, preds_pipe2).ravel()\n",
    "\n",
    "print(\"\\nAccuracy: \", (tn + tp) / (tn + fp + fn + tp))\n",
    "df_results.loc[['Model 2'],['Accuracy']] = (tn + tp) / (tn + fp + fn + tp)\n",
    "\n",
    "print(\"Sensitivity: \", tp / (tp + fn))\n",
    "df_results.loc[['Model 2'],['Sensitivity']] = tp / (tp + fn)\n",
    "\n",
    "print(\"Specificity: \", tn / (tn + fp))\n",
    "df_results.loc[['Model 2'],['Specificity']] = tn / (tn + fp)\n",
    "\n",
    "print(\"Precision: \", tp / (tp + fp))\n",
    "df_results.loc[['Model 2'],['Precision']] = tp / (tp + fp)"
   ]
  },
  {
   "cell_type": "markdown",
   "metadata": {},
   "source": [
    "Overall we see lesser overfit as compared to Model 1 with a 5% drop in accuracy on the train versus the test dataset. We also observe that TF-IDF Vectorizer performed better, and perhaps intuitively so since it takes into account the number of occurences of words. We will perform analysis on the features in Section 2.6 since this model is our model of choice."
   ]
  },
  {
   "cell_type": "markdown",
   "metadata": {},
   "source": []
  },
  {
   "cell_type": "markdown",
   "metadata": {},
   "source": [
    "## Model 3: TfidfVectorizer, MultinomialNB"
   ]
  },
  {
   "cell_type": "code",
   "execution_count": 21,
   "metadata": {},
   "outputs": [],
   "source": [
    "pipe3 = Pipeline([\n",
    "    ('tv3', TfidfVectorizer(stop_words=stop_words_final)),\n",
    "    ('mn3', MultinomialNB())\n",
    "])\n",
    "\n",
    "pipe3_params = {\n",
    "    'mn3__alpha': [1, 1.2, 1.4],\n",
    "    'tv3__min_df': [1, 2, 3],\n",
    "    'tv3__max_df': [0.95, 0.9, 0.8, 0.7],\n",
    "    'tv3__ngram_range': [(1,1), (1,2)]\n",
    "}\n",
    "\n",
    "gs_pipe3 = GridSearchCV(\n",
    "    pipe3,\n",
    "    param_grid=pipe3_params,\n",
    "    cv=5\n",
    ")"
   ]
  },
  {
   "cell_type": "markdown",
   "metadata": {},
   "source": [
    "Fit model"
   ]
  },
  {
   "cell_type": "code",
   "execution_count": 22,
   "metadata": {},
   "outputs": [],
   "source": [
    "gs_pipe3.fit(X_train, y_train);"
   ]
  },
  {
   "cell_type": "markdown",
   "metadata": {},
   "source": [
    "Best parameters"
   ]
  },
  {
   "cell_type": "code",
   "execution_count": 23,
   "metadata": {},
   "outputs": [
    {
     "data": {
      "text/plain": [
       "{'mn3__alpha': 1,\n",
       " 'tv3__max_df': 0.95,\n",
       " 'tv3__min_df': 3,\n",
       " 'tv3__ngram_range': (1, 2)}"
      ]
     },
     "execution_count": 23,
     "metadata": {},
     "output_type": "execute_result"
    }
   ],
   "source": [
    "gs_pipe3.best_params_"
   ]
  },
  {
   "cell_type": "code",
   "execution_count": 24,
   "metadata": {},
   "outputs": [
    {
     "data": {
      "text/plain": [
       "0.9544041450777202"
      ]
     },
     "execution_count": 24,
     "metadata": {},
     "output_type": "execute_result"
    }
   ],
   "source": [
    "gs_model_pipe3 = gs_pipe3.best_estimator_\n",
    "gs_model_pipe3.score(X_train, y_train)"
   ]
  },
  {
   "cell_type": "code",
   "execution_count": 25,
   "metadata": {
    "scrolled": true
   },
   "outputs": [
    {
     "data": {
      "text/plain": [
       "0.884453781512605"
      ]
     },
     "execution_count": 25,
     "metadata": {},
     "output_type": "execute_result"
    }
   ],
   "source": [
    "gs_model_pipe3.score(X_test, y_test)"
   ]
  },
  {
   "cell_type": "markdown",
   "metadata": {},
   "source": [
    "### Metrics and scores"
   ]
  },
  {
   "cell_type": "code",
   "execution_count": 26,
   "metadata": {},
   "outputs": [
    {
     "data": {
      "image/png": "[encoded data removed]",
      "text/plain": [
       "<Figure size 432x288 with 2 Axes>"
      ]
     },
     "metadata": {
      "needs_background": "light"
     },
     "output_type": "display_data"
    }
   ],
   "source": [
    "preds_pipe3 = gs_model_pipe3.predict(X_test)\n",
    "plot_confusion_matrix(gs_model_pipe3, X_test, y_test, cmap='Blues', values_format='d');"
   ]
  },
  {
   "cell_type": "code",
   "execution_count": 27,
   "metadata": {},
   "outputs": [
    {
     "name": "stdout",
     "output_type": "stream",
     "text": [
      "\n",
      "Accuracy:  0.884453781512605\n",
      "Sensitivity:  0.7899159663865546\n",
      "Specificity:  0.9789915966386554\n",
      "Precision:  0.9740932642487047\n"
     ]
    }
   ],
   "source": [
    "tn, fp, fn, tp = confusion_matrix(y_test, preds_pipe3).ravel()\n",
    "\n",
    "print(\"\\nAccuracy: \", (tn + tp) / (tn + fp + fn + tp))\n",
    "df_results.loc[['Model 3'],['Accuracy']] = (tn + tp) / (tn + fp + fn + tp)\n",
    "\n",
    "print(\"Sensitivity: \", tp / (tp + fn))\n",
    "df_results.loc[['Model 3'],['Sensitivity']] = tp / (tp + fn)\n",
    "\n",
    "print(\"Specificity: \", tn / (tn + fp))\n",
    "df_results.loc[['Model 3'],['Specificity']] = tn / (tn + fp)\n",
    "\n",
    "print(\"Precision: \", tp / (tp + fp))\n",
    "df_results.loc[['Model 3'],['Precision']] = tp / (tp + fp)"
   ]
  },
  {
   "cell_type": "code",
   "execution_count": 28,
   "metadata": {},
   "outputs": [
    {
     "name": "stdout",
     "output_type": "stream",
     "text": [
      "Top 5 words for /rGainIt\n",
      "['brag' 'lagging' 'seriously year' 'bad form' 'primary goal']\n",
      "\n",
      "Top 5 words for /rLoseIt\n",
      "['little worried' 'day step' 'day starting' 'pal' 'parent house']\n"
     ]
    }
   ],
   "source": [
    "neg_class_prob_sorted = gs_model_pipe3.named_steps['mn3'].feature_log_prob_[0, :].argsort()\n",
    "pos_class_prob_sorted = gs_model_pipe3.named_steps['mn3'].feature_log_prob_[1, :].argsort()\n",
    "\n",
    "print('Top 5 words for /rGainIt')\n",
    "print(np.take(gs_model_pipe3.named_steps['tv3'].get_feature_names(), neg_class_prob_sorted[:5]))\n",
    "print()\n",
    "print('Top 5 words for /rLoseIt')\n",
    "print(np.take(gs_model_pipe3.named_steps['tv3'].get_feature_names(), pos_class_prob_sorted[:5]))"
   ]
  },
  {
   "cell_type": "markdown",
   "metadata": {},
   "source": [
    "Here it's interesting to observe that since the ngram of choice by the model is (1,2), we're seeing double words being utlized by MultinomialNB. The words may seem rather odd, but we can take into consideration that this due to the Lemmatizing effect. Overall there's quite high overfitting and we see that MultinomialNB does not do as well as Logistic Regression."
   ]
  },
  {
   "cell_type": "markdown",
   "metadata": {},
   "source": [
    "## Model 4: TfidfVectorizer, RandomForestClassifier"
   ]
  },
  {
   "cell_type": "markdown",
   "metadata": {},
   "source": [
    "I thought that it'd be interesting to include Random Forest Classifier as well in the mix and see how it performs."
   ]
  },
  {
   "cell_type": "code",
   "execution_count": 29,
   "metadata": {},
   "outputs": [],
   "source": [
    "pipe4 = Pipeline([\n",
    "    ('tv4', TfidfVectorizer(stop_words=stop_words_final)),\n",
    "    ('rf4', RandomForestClassifier())\n",
    "])\n",
    "\n",
    "pipe4_params = {\n",
    "    'tv4__min_df': [1, 2],\n",
    "    'tv4__max_df': [0.95, 0.9],\n",
    "    'tv4__ngram_range': [(1,1), (1,2)],\n",
    "    'rf4__n_estimators': [100,150,200],\n",
    "    'rf4__max_depth': [3,6,8,20,40]\n",
    "}\n",
    "\n",
    "gs_pipe4 = GridSearchCV(\n",
    "    pipe4,\n",
    "    param_grid=pipe4_params,\n",
    "    cv=5\n",
    ")"
   ]
  },
  {
   "cell_type": "markdown",
   "metadata": {},
   "source": [
    "Fit model"
   ]
  },
  {
   "cell_type": "code",
   "execution_count": 30,
   "metadata": {},
   "outputs": [],
   "source": [
    "gs_pipe4.fit(X_train, y_train);"
   ]
  },
  {
   "cell_type": "code",
   "execution_count": 31,
   "metadata": {},
   "outputs": [
    {
     "data": {
      "text/plain": [
       "0.8932642487046631"
      ]
     },
     "execution_count": 31,
     "metadata": {},
     "output_type": "execute_result"
    }
   ],
   "source": [
    "gs_pipe4.best_score_"
   ]
  },
  {
   "cell_type": "code",
   "execution_count": 32,
   "metadata": {},
   "outputs": [
    {
     "data": {
      "text/plain": [
       "{'rf4__max_depth': 40,\n",
       " 'rf4__n_estimators': 200,\n",
       " 'tv4__max_df': 0.9,\n",
       " 'tv4__min_df': 2,\n",
       " 'tv4__ngram_range': (1, 1)}"
      ]
     },
     "execution_count": 32,
     "metadata": {},
     "output_type": "execute_result"
    }
   ],
   "source": [
    "gs_pipe4.best_params_"
   ]
  },
  {
   "cell_type": "code",
   "execution_count": 33,
   "metadata": {},
   "outputs": [
    {
     "data": {
      "text/plain": [
       "1.0"
      ]
     },
     "execution_count": 33,
     "metadata": {},
     "output_type": "execute_result"
    }
   ],
   "source": [
    "gs_model_pipe4 = gs_pipe4.best_estimator_\n",
    "gs_model_pipe4.score(X_train, y_train)"
   ]
  },
  {
   "cell_type": "code",
   "execution_count": 34,
   "metadata": {},
   "outputs": [
    {
     "data": {
      "text/plain": [
       "0.884453781512605"
      ]
     },
     "execution_count": 34,
     "metadata": {},
     "output_type": "execute_result"
    }
   ],
   "source": [
    "gs_model_pipe4.score(X_test, y_test)"
   ]
  },
  {
   "cell_type": "markdown",
   "metadata": {},
   "source": [
    "### Metrics and scores"
   ]
  },
  {
   "cell_type": "code",
   "execution_count": 35,
   "metadata": {},
   "outputs": [
    {
     "data": {
      "image/png": "[encoded data removed]",
      "text/plain": [
       "<Figure size 432x288 with 2 Axes>"
      ]
     },
     "metadata": {
      "needs_background": "light"
     },
     "output_type": "display_data"
    }
   ],
   "source": [
    "preds_pipe4 = gs_model_pipe4.predict(X_test)\n",
    "plot_confusion_matrix(gs_model_pipe4, X_test, y_test, cmap='Blues', values_format='d');"
   ]
  },
  {
   "cell_type": "code",
   "execution_count": 36,
   "metadata": {
    "scrolled": true
   },
   "outputs": [
    {
     "name": "stdout",
     "output_type": "stream",
     "text": [
      "\n",
      "Accuracy:  0.884453781512605\n",
      "Sensitivity:  0.8571428571428571\n",
      "Specificity:  0.9117647058823529\n",
      "Precision:  0.9066666666666666\n"
     ]
    }
   ],
   "source": [
    "tn, fp, fn, tp = confusion_matrix(y_test, preds_pipe4).ravel()\n",
    "\n",
    "print(\"\\nAccuracy: \", (tn + tp) / (tn + fp + fn + tp))\n",
    "df_results.loc[['Model 4'],['Accuracy']] = (tn + tp) / (tn + fp + fn + tp)\n",
    "\n",
    "print(\"Sensitivity: \", tp / (tp + fn))\n",
    "df_results.loc[['Model 4'],['Sensitivity']] = tp / (tp + fn)\n",
    "\n",
    "print(\"Specificity: \", tn / (tn + fp))\n",
    "df_results.loc[['Model 4'],['Specificity']] = tn / (tn + fp)\n",
    "\n",
    "print(\"Precision: \", tp / (tp + fp))\n",
    "df_results.loc[['Model 4'],['Precision']] = tp / (tp + fp)"
   ]
  },
  {
   "cell_type": "markdown",
   "metadata": {},
   "source": [
    "Finding out which are the more important words"
   ]
  },
  {
   "cell_type": "code",
   "execution_count": 37,
   "metadata": {},
   "outputs": [
    {
     "name": "stdout",
     "output_type": "stream",
     "text": [
      "['weight' 'losing' 'journey' 'wa' 'bulking']\n"
     ]
    }
   ],
   "source": [
    "rf4_model = gs_model_pipe4.named_steps['rf4']\n",
    "\n",
    "important_features_dict = {}\n",
    "for idx, val in enumerate(rf4_model.feature_importances_):\n",
    "    important_features_dict[idx] = val\n",
    "\n",
    "important_features_list = sorted(important_features_dict,\n",
    "                                 key=important_features_dict.get,\n",
    "                                 reverse=True)\n",
    "\n",
    "print(np.take(gs_model_pipe4.named_steps['tv4'].get_feature_names(), important_features_list[:5]))"
   ]
  },
  {
   "cell_type": "markdown",
   "metadata": {},
   "source": [
    "Random Forest Classifier is able to provide the features that gave the most importances and we can see these 5 words contributing the most to our model. 'weight', 'bulking' and 'rep' were words that we caught from EDA and it's interesting that Random Forest has selected the same important features as well."
   ]
  },
  {
   "cell_type": "markdown",
   "metadata": {},
   "source": [
    "## Model selection: TfidfVectorizer + LogReg "
   ]
  },
  {
   "cell_type": "markdown",
   "metadata": {},
   "source": [
    "To select the ideal model, we compare the models based on their confusion matrix."
   ]
  },
  {
   "cell_type": "code",
   "execution_count": 38,
   "metadata": {},
   "outputs": [
    {
     "data": {
      "text/html": [
       "<div>\n",
       "<style scoped>\n",
       "    .dataframe tbody tr th:only-of-type {\n",
       "        vertical-align: middle;\n",
       "    }\n",
       "\n",
       "    .dataframe tbody tr th {\n",
       "        vertical-align: top;\n",
       "    }\n",
       "\n",
       "    .dataframe thead th {\n",
       "        text-align: right;\n",
       "    }\n",
       "</style>\n",
       "<table border=\"1\" class=\"dataframe\">\n",
       "  <thead>\n",
       "    <tr style=\"text-align: right;\">\n",
       "      <th></th>\n",
       "      <th>Accuracy</th>\n",
       "      <th>Sensitivity</th>\n",
       "      <th>Specificity</th>\n",
       "      <th>Precision</th>\n",
       "    </tr>\n",
       "  </thead>\n",
       "  <tbody>\n",
       "    <tr>\n",
       "      <th>Model 1</th>\n",
       "      <td>0.909664</td>\n",
       "      <td>0.920168</td>\n",
       "      <td>0.89916</td>\n",
       "      <td>0.901235</td>\n",
       "    </tr>\n",
       "    <tr>\n",
       "      <th>Model 2</th>\n",
       "      <td>0.911765</td>\n",
       "      <td>0.878151</td>\n",
       "      <td>0.945378</td>\n",
       "      <td>0.941441</td>\n",
       "    </tr>\n",
       "    <tr>\n",
       "      <th>Model 3</th>\n",
       "      <td>0.884454</td>\n",
       "      <td>0.789916</td>\n",
       "      <td>0.978992</td>\n",
       "      <td>0.974093</td>\n",
       "    </tr>\n",
       "    <tr>\n",
       "      <th>Model 4</th>\n",
       "      <td>0.884454</td>\n",
       "      <td>0.857143</td>\n",
       "      <td>0.911765</td>\n",
       "      <td>0.906667</td>\n",
       "    </tr>\n",
       "  </tbody>\n",
       "</table>\n",
       "</div>"
      ],
      "text/plain": [
       "         Accuracy Sensitivity Specificity Precision\n",
       "Model 1  0.909664    0.920168     0.89916  0.901235\n",
       "Model 2  0.911765    0.878151    0.945378  0.941441\n",
       "Model 3  0.884454    0.789916    0.978992  0.974093\n",
       "Model 4  0.884454    0.857143    0.911765  0.906667"
      ]
     },
     "execution_count": 38,
     "metadata": {},
     "output_type": "execute_result"
    }
   ],
   "source": [
    "df_results"
   ]
  },
  {
   "cell_type": "markdown",
   "metadata": {},
   "source": [
    "Using accuracy as a measure, Model 2 did the best with 91.1% accuracy and also scored 94.1% precision on unseen data. Model 1 came very close as well and it does signal that Logistic Regression seem to be doing a better job classifying the subreddits. Both Naives Bayes Classifier as well as Random Forest Classifer did relatively closely with about 89% accuracy scores. Though the disparity is not large, it was interesting to experiment running multiple models on the same dataset to see which one would prevail."
   ]
  },
  {
   "cell_type": "markdown",
   "metadata": {},
   "source": [
    "## Misclassification review"
   ]
  },
  {
   "cell_type": "markdown",
   "metadata": {},
   "source": [
    "I wanted to take a look at what are the common misclassified posts to see if there's any interesting findings. We can do that by comparing the predicted results against the actual prediction per below."
   ]
  },
  {
   "cell_type": "code",
   "execution_count": 64,
   "metadata": {
    "scrolled": true
   },
   "outputs": [],
   "source": [
    "y_pred1 = gs_model_pipe1.predict(X_test)\n",
    "y_pred2 = gs_model_pipe2.predict(X_test)\n",
    "y_pred3 = gs_model_pipe3.predict(X_test)\n",
    "y_pred4 = gs_model_pipe4.predict(X_test)\n",
    "\n",
    "misclassified1 = np.where(y_pred1 != y_test)\n",
    "misclassified2 = np.where(y_pred2 != y_test)\n",
    "misclassified3 = np.where(y_pred3 != y_test)\n",
    "misclassified4 = np.where(y_pred4 != y_test)\n",
    "\n",
    "raveled_1 = np.ravel(misclassified1).tolist()\n",
    "raveled_2 = np.ravel(misclassified2).tolist()\n",
    "raveled_3 = np.ravel(misclassified3).tolist()\n",
    "raveled_4 = np.ravel(misclassified4).tolist()\n",
    "\n",
    "misclassified = list(set(raveled_1) & set(raveled_2) & set(raveled_3) & set(raveled_4))"
   ]
  },
  {
   "cell_type": "code",
   "execution_count": 65,
   "metadata": {},
   "outputs": [
    {
     "data": {
      "text/plain": [
       "[1,\n",
       " 386,\n",
       " 98,\n",
       " 452,\n",
       " 265,\n",
       " 362,\n",
       " 44,\n",
       " 461,\n",
       " 270,\n",
       " 207,\n",
       " 367,\n",
       " 180,\n",
       " 245,\n",
       " 214,\n",
       " 246,\n",
       " 121,\n",
       " 283]"
      ]
     },
     "execution_count": 65,
     "metadata": {},
     "output_type": "execute_result"
    }
   ],
   "source": [
    "misclassified"
   ]
  },
  {
   "cell_type": "code",
   "execution_count": 71,
   "metadata": {},
   "outputs": [
    {
     "data": {
      "text/plain": [
       "'protein powder question question may sound silly bugging like hear input people experience told protein powder cause weight gain even eating significant deficit exercising considerably long protein powder consumed weight loss realistic told calorie matter protein powder weight gain happen matter anyone add refute make sense case certain people ie female people thyroid problem woman pcos'"
      ]
     },
     "execution_count": 71,
     "metadata": {},
     "output_type": "execute_result"
    }
   ],
   "source": [
    "X_test[386]"
   ]
  },
  {
   "cell_type": "code",
   "execution_count": 66,
   "metadata": {},
   "outputs": [
    {
     "data": {
      "text/plain": [
       "0"
      ]
     },
     "execution_count": 66,
     "metadata": {},
     "output_type": "execute_result"
    }
   ],
   "source": [
    "y_test[386]"
   ]
  },
  {
   "cell_type": "code",
   "execution_count": 72,
   "metadata": {},
   "outputs": [
    {
     "data": {
      "text/plain": [
       "'fit shape skinny lifted day week consistently wa extremely shape biggest motivator wa looking good muscular know sound shallow wa college wa always skinny high school gaining weight loved r physique thought would never want change way look beginning year suddenly stopped going gym reason stopped lost muscle mass hate skinny look reason make go gym much want membership close time like motivation discipline lifting wa deleted brain slowly compounded le shape le energy make even harder go ha anyone run sudden loss discipline doe anyone advice bringing mindset back theory achieving goal many year bring motivational energy maybe second theory college motivator wa looking fit part social image longer feel need try anymore neither one make much sense still desire fit thing think'"
      ]
     },
     "execution_count": 72,
     "metadata": {},
     "output_type": "execute_result"
    }
   ],
   "source": [
    "X_test[98]"
   ]
  },
  {
   "cell_type": "code",
   "execution_count": 67,
   "metadata": {},
   "outputs": [
    {
     "data": {
      "text/plain": [
       "1"
      ]
     },
     "execution_count": 67,
     "metadata": {},
     "output_type": "execute_result"
    }
   ],
   "source": [
    "y_test[98]"
   ]
  },
  {
   "cell_type": "code",
   "execution_count": 73,
   "metadata": {},
   "outputs": [
    {
     "data": {
      "text/plain": [
       "'getting body fat hi everyone lost lb dirty bulk gained lb muscle bulk around body fat want get month weight loss wa losing lb month think weight loss ha slowed question much doe weight loss slow already lean visible six pack bf eating around calorie day min hiit session hour walking even every day still weight loss ha slowed heard weight loss rate slow even lb month think happens try get extreme level body fat competition ectomorph btw skinny fat side pure ripped ectomorph'"
      ]
     },
     "execution_count": 73,
     "metadata": {},
     "output_type": "execute_result"
    }
   ],
   "source": [
    "X_test[452]"
   ]
  },
  {
   "cell_type": "code",
   "execution_count": 68,
   "metadata": {},
   "outputs": [
    {
     "data": {
      "text/plain": [
       "0"
      ]
     },
     "execution_count": 68,
     "metadata": {},
     "output_type": "execute_result"
    }
   ],
   "source": [
    "y_test[452]"
   ]
  },
  {
   "cell_type": "markdown",
   "metadata": {},
   "source": [
    "Out of curiosity, I wanted to checkout a few misclassified posts. I took a look at 3 misclassified posts above. Interestingly, all 3 of them didn't seem straight up obvious as to where they should be classified under. "
   ]
  },
  {
   "cell_type": "markdown",
   "metadata": {},
   "source": [
    "## Feature Analysis"
   ]
  },
  {
   "cell_type": "markdown",
   "metadata": {},
   "source": [
    "Given we've selected Model 2 as our model of choice, we want to take a look at the feature coefficients and see which were the most important words that aided the classification exercise."
   ]
  },
  {
   "cell_type": "code",
   "execution_count": null,
   "metadata": {},
   "outputs": [],
   "source": [
    "lr_model = gs_model_pipe2.named_steps['lr2']\n",
    "tvec_model = gs_model_pipe2.named_steps['tv2']\n",
    "\n",
    "df_coef = pd.DataFrame(lr_model.coef_.T, index=tvec_model.get_feature_names(), columns=['coefficient'])\n",
    "df_coef['logodds'] = np.exp(df_coef['coefficient'])\n",
    "df_coef.sort_values(by='coefficient', ascending=False).head(10)"
   ]
  },
  {
   "cell_type": "code",
   "execution_count": null,
   "metadata": {},
   "outputs": [],
   "source": [
    "df_coef.sort_values(by='coefficient', ascending=False).tail(10)"
   ]
  },
  {
   "cell_type": "markdown",
   "metadata": {},
   "source": [
    "Summarizing the top 5 words for each subreddit, we get below table.\n",
    "\n",
    "|Model 2 (LogReg)|r/GainIt|r/LoseIt|\n",
    "|---|---|---|\n",
    "|1|bulking|decifit|\n",
    "|2|bulk|losing weight|\n",
    "|3|muscle|feel|\n",
    "|4|squat|journey|\n",
    "|5|rep|calorie|\n",
    "\n",
    "For every one-unit increase in a word, the odds that the observation is in /rGainIt are the logodds value times as large as the odds that the observation is not in /rGainIt when all other variables are held constant. In other words, when the word 'bulking' appears in the post, it is 7 times as large as the odds that the word is not in /rGainIt. It's worthy to point out that despite our EDA identifying top words that occured in the subreddits, only 'muscle' and 'feel' came up.\n",
    "\n",
    "It's interesting to observe that these words are very different when MultinomialNB is used as classifier. None of the words appeared in our EDA section. Let's take a look below\n",
    "\n",
    "|Model 3 (MultinomialNB)|r/GainIt|r/LoseIt|\n",
    "|---|---|---|\n",
    "|1|brag|little worried|\n",
    "|2|lagging|day step|\n",
    "|3|seriously year|day starting|\n",
    "|4|bad for|pal|\n",
    "|5|primary goal|parent house|\n",
    "\n",
    "In addition, we also have RandomForest that picked out these top 5 words as 'the most important' to the model. \n",
    "\n",
    "|Model 4 (RandomForest)|Important words|\n",
    "|---|---|\n",
    "|1|weight|\n",
    "|2|wa|\n",
    "|3|losing|\n",
    "|4|journey|\n",
    "|5|know|"
   ]
  },
  {
   "cell_type": "markdown",
   "metadata": {},
   "source": [
    "## Conclusion"
   ]
  },
  {
   "cell_type": "markdown",
   "metadata": {},
   "source": [
    "A total of 5 models were ran for this classifier project. Summary of their scores below"
   ]
  },
  {
   "cell_type": "code",
   "execution_count": null,
   "metadata": {},
   "outputs": [],
   "source": [
    "df_results"
   ]
  },
  {
   "cell_type": "markdown",
   "metadata": {},
   "source": [
    "Overall Model 2 performed the best if we compare on accuracy. Model 2 is a combination of TF-IDF Vectorizer alongside Logistic Regression. It was interesting to include additional classifiers like Naives Bayes and Random Forest to test and see how they performed. Though accuracy did not match up with Logistic Regression. Random Forest did not perform very well on all the confusion metrics, and my best guess is due to the sparsity of our dataset which probably made it unproductive for Random Forest on its random feature split.\n",
    "\n",
    "In the problem statement I stated concerns regarding the similarity on the content of both subreddits. However, given that there were ample data for us to fit our model on, it turned out that our models performed relatively well on unseen data. Though there were similar keywords in both subreddits, there were distinct words within the subreddits which were sufficient to classify the subreddits respectively. Its noteworthy that each models placed different strength on different keywords. There were also keywords which I picked up from my initial EDA section that contributed well to the classifying model ('muscle', 'bulk', 'squat' etc). "
   ]
  },
  {
   "cell_type": "markdown",
   "metadata": {},
   "source": [
    "## Recommendations"
   ]
  },
  {
   "cell_type": "markdown",
   "metadata": {},
   "source": [
    "If one wishes to strongly classify his or her Reddit post as part of r/GainIt, the model recommends to use this list of possible words in the body \n",
    "*('bulk', 'muscle', 'squat', 'rep', 'set', 'lift', 'program', 'bench', 'protein')*\n",
    "\n",
    "If one wishes to strongly classify his or her Reddit post as part of r/LoseIt, the model recommends to use this list of possible words in the body\n",
    "*('deficit', 'losing weight', 'feel', 'journey', 'calorie', 'want', 'losing', 'pound', 'weight')*"
   ]
  },
  {
   "cell_type": "markdown",
   "metadata": {},
   "source": [
    "## Additional data points to consider"
   ]
  },
  {
   "cell_type": "markdown",
   "metadata": {},
   "source": [
    "\n",
    "\n",
    "**1. User's geographical data**  \n",
    "We can potentially patch in geographical data to test and see if there are regions in the world that are more interested in losing or gaining weight. Are Asians more inclined to weight gain as opposed to weight loss? Could this be a metric marketing companies can use to target their audience?\n",
    "  \n",
    "    \n",
    "**2. User's gender data**  \n",
    "Similar to above, we can also postulate and test to see if a specific gender is more inclined to gain or lose weight."
   ]
  }
 ],
 "metadata": {
  "kernelspec": {
   "display_name": "Python 3",
   "language": "python",
   "name": "python3"
  },
  "language_info": {
   "codemirror_mode": {
    "name": "ipython",
    "version": 3
   },
   "file_extension": ".py",
   "mimetype": "text/x-python",
   "name": "python",
   "nbconvert_exporter": "python",
   "pygments_lexer": "ipython3",
   "version": "3.8.5"
  },
  "toc": {
   "base_numbering": 1,
   "nav_menu": {},
   "number_sections": true,
   "sideBar": true,
   "skip_h1_title": false,
   "title_cell": "Table of Contents",
   "title_sidebar": "Contents",
   "toc_cell": false,
   "toc_position": {
    "height": "calc(100% - 180px)",
    "left": "10px",
    "top": "150px",
    "width": "568.889px"
   },
   "toc_section_display": true,
   "toc_window_display": true
  }
 },
 "nbformat": 4,
 "nbformat_minor": 4
}
